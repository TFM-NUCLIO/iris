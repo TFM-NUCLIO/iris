{
 "cells": [
  {
   "cell_type": "code",
   "execution_count": 2,
   "metadata": {},
   "outputs": [],
   "source": [
    "import pickle\n",
    "import os\n",
    "import pandas as pd\n",
    "import numpy as np"
   ]
  },
  {
   "cell_type": "code",
   "execution_count": 8,
   "metadata": {},
   "outputs": [],
   "source": [
    "df_X1 = pd.read_pickle('E:/OneDrive/Documentos/GitHub/iris/IrisAutoencoder_LSTM_v2/train_data/df_X1.pkl')\n",
    "df_X2 = pd.read_pickle('E:/OneDrive/Documentos/GitHub/iris/IrisAutoencoder_LSTM_v2/train_data/df_X2.pkl')\n",
    "df_X3 = pd.read_pickle('E:/OneDrive/Documentos/GitHub/iris/IrisAutoencoder_LSTM_v2/train_data/df_X3.pkl')\n",
    "\n",
    "\"\"\"df_X1.reset_index(inplace=True)\n",
    "df_X2.reset_index(inplace=True)\n",
    "df_X3.reset_index(inplace=True)\"\"\"\n",
    "\n",
    "df_X1_melt = df_X1.melt(id_vars=['cnes', 'codigo_procedimento'], var_name='date', value_name='df_X1')\n",
    "df_X2_melt = df_X2.melt(id_vars=['cnes', 'codigo_procedimento'], var_name='date', value_name='df_X2')\n",
    "df_X3_melt = df_X3.melt(id_vars=['cnes', 'codigo_procedimento'], var_name='date', value_name='df_X3')\n",
    "\n",
    "\n",
    "df = pd.merge(df_X1_melt, df_X2_melt, on=['cnes', 'codigo_procedimento', 'date'])\n",
    "df = pd.merge(df, df_X3_melt, on=['cnes', 'codigo_procedimento', 'date'])"
   ]
  },
  {
   "cell_type": "code",
   "execution_count": 2,
   "metadata": {},
   "outputs": [],
   "source": [
    "df_X1 = pd.read_pickle('/OneDrive/Documentos/GitHub/iris/IrisAutoencoder_LSTM_v2/train_data/df_X1.pkl')\n",
    "df_X2 = pd.read_pickle('/OneDrive/Documentos/GitHub/iris/IrisAutoencoder_LSTM_v2/train_data/df_X2.pkl')\n",
    "df_X3 = pd.read_pickle('/OneDrive/Documentos/GitHub/iris/IrisAutoencoder_LSTM_v2/train_data/df_X3.pkl')"
   ]
  },
  {
   "cell_type": "code",
   "execution_count": 3,
   "metadata": {},
   "outputs": [],
   "source": [
    "df_X1.reset_index(inplace=True)\n",
    "df_X2.reset_index(inplace=True)\n",
    "df_X3.reset_index(inplace=True)"
   ]
  },
  {
   "cell_type": "code",
   "execution_count": 4,
   "metadata": {},
   "outputs": [],
   "source": [
    "df_X1_melt = df_X1.melt(id_vars=['cnes', 'codigo_procedimento'], var_name='date', value_name='df_X1')\n",
    "df_X2_melt = df_X2.melt(id_vars=['cnes', 'codigo_procedimento'], var_name='date', value_name='df_X2')\n",
    "df_X3_melt = df_X3.melt(id_vars=['cnes', 'codigo_procedimento'], var_name='date', value_name='df_X3')"
   ]
  },
  {
   "cell_type": "code",
   "execution_count": 5,
   "metadata": {},
   "outputs": [
    {
     "name": "stdout",
     "output_type": "stream",
     "text": [
      "Dataframe is not sorted.\n",
      "Dataframe is not sorted.\n",
      "Dataframe is not sorted.\n"
     ]
    }
   ],
   "source": [
    "def check_order_and_duplicates(df):\n",
    "    # Check if the DataFrame is sorted\n",
    "    if not df.sort_values(['cnes', 'codigo_procedimento', 'date']).equals(df):\n",
    "        return \"Dataframe is not sorted.\"\n",
    "\n",
    "    # Check for duplicated index values\n",
    "    if df.duplicated(['cnes', 'codigo_procedimento', 'date']).any():\n",
    "        return \"Dataframe has duplicated index values.\"\n",
    "\n",
    "    return \"Dataframe is sorted and has unique index values.\"\n",
    "\n",
    "print(check_order_and_duplicates(df_X1_melt))\n",
    "print(check_order_and_duplicates(df_X2_melt))\n",
    "print(check_order_and_duplicates(df_X3_melt))"
   ]
  },
  {
   "cell_type": "code",
   "execution_count": 6,
   "metadata": {},
   "outputs": [
    {
     "name": "stdout",
     "output_type": "stream",
     "text": [
      "Dataframe is sorted and has unique index values.\n",
      "Dataframe is sorted and has unique index values.\n",
      "Dataframe is sorted and has unique index values.\n"
     ]
    }
   ],
   "source": [
    "def sort_dataframe(df):\n",
    "    df = df.sort_values(['cnes', 'codigo_procedimento', 'date'])\n",
    "    return df\n",
    "\n",
    "df_X1_melt = sort_dataframe(df_X1_melt)\n",
    "df_X2_melt = sort_dataframe(df_X2_melt)\n",
    "df_X3_melt = sort_dataframe(df_X3_melt)\n",
    "\n",
    "# Verificando novamente\n",
    "print(check_order_and_duplicates(df_X1_melt))\n",
    "print(check_order_and_duplicates(df_X2_melt))\n",
    "print(check_order_and_duplicates(df_X3_melt))"
   ]
  },
  {
   "cell_type": "code",
   "execution_count": 7,
   "metadata": {},
   "outputs": [],
   "source": [
    "df = pd.merge(df_X1_melt, df_X2_melt, on=['cnes', 'codigo_procedimento', 'date'])\n",
    "df = sort_dataframe(df)\n",
    "\n",
    "df = pd.merge(df, df_X3_melt, on=['cnes', 'codigo_procedimento', 'date'])"
   ]
  },
  {
   "cell_type": "code",
   "execution_count": 8,
   "metadata": {},
   "outputs": [
    {
     "name": "stdout",
     "output_type": "stream",
     "text": [
      "(8674380, 4)\n",
      "(8674380, 4)\n",
      "(8674380, 4)\n"
     ]
    }
   ],
   "source": [
    "print(df_X1_melt.shape)\n",
    "print(df_X2_melt.shape)\n",
    "print(df_X3_melt.shape)\n"
   ]
  },
  {
   "cell_type": "code",
   "execution_count": 9,
   "metadata": {},
   "outputs": [
    {
     "name": "stderr",
     "output_type": "stream",
     "text": [
      "C:\\Users\\ricar\\AppData\\Local\\Temp\\ipykernel_28740\\1036438272.py:2: FutureWarning: In a future version, the Index constructor will not infer numeric dtypes when passed object-dtype sequences (matching Series behavior)\n",
      "  df = pd.merge(df, df_X3_melt, on=['cnes', 'codigo_procedimento', 'date'], how='outer')\n"
     ]
    }
   ],
   "source": [
    "df = pd.merge(df_X1_melt, df_X2_melt, on=['cnes', 'codigo_procedimento', 'date'], how='outer')\n",
    "df = pd.merge(df, df_X3_melt, on=['cnes', 'codigo_procedimento', 'date'], how='outer')\n"
   ]
  },
  {
   "cell_type": "code",
   "execution_count": 10,
   "metadata": {},
   "outputs": [
    {
     "name": "stdout",
     "output_type": "stream",
     "text": [
      "(8674380, 4)\n",
      "(8674380, 4)\n",
      "(8674380, 4)\n",
      "(0, 6)\n"
     ]
    }
   ],
   "source": [
    "print(df_X1_melt.drop_duplicates().shape)\n",
    "print(df_X2_melt.drop_duplicates().shape)\n",
    "print(df_X3_melt.drop_duplicates().shape)\n",
    "\n",
    "df_inner = df_X1_melt.merge(df_X2_melt,on=['cnes','codigo_procedimento','date']).merge(df_X3_melt,on=['cnes','codigo_procedimento','date'])\n",
    "print(df_inner.shape)\n"
   ]
  },
  {
   "cell_type": "code",
   "execution_count": 11,
   "metadata": {},
   "outputs": [
    {
     "name": "stdout",
     "output_type": "stream",
     "text": [
      "Shape: (55605, 158)\n",
      "Data types: cnes                     int64\n",
      "codigo_procedimento      int64\n",
      "201001                 float64\n",
      "201002                 float64\n",
      "201003                 float64\n",
      "                        ...   \n",
      "202208                 float64\n",
      "202209                 float64\n",
      "202210                 float64\n",
      "202211                 float64\n",
      "202212                 float64\n",
      "Length: 158, dtype: object\n",
      "Number of unique values:\n",
      " cnes                   3706\n",
      "codigo_procedimento     921\n",
      "201001                 7007\n",
      "201002                 6932\n",
      "201003                 4947\n",
      "                       ... \n",
      "202208                 7202\n",
      "202209                 7183\n",
      "202210                 7254\n",
      "202211                 7128\n",
      "202212                 7209\n",
      "Length: 158, dtype: int64\n",
      "Number of null values:\n",
      " cnes                   0\n",
      "codigo_procedimento    0\n",
      "201001                 0\n",
      "201002                 0\n",
      "201003                 0\n",
      "                      ..\n",
      "202208                 0\n",
      "202209                 0\n",
      "202210                 0\n",
      "202211                 0\n",
      "202212                 0\n",
      "Length: 158, dtype: int64\n",
      "Shape: (55605, 158)\n",
      "Data types: cnes                     int64\n",
      "codigo_procedimento      int64\n",
      "201001                 float64\n",
      "201002                 float64\n",
      "201003                 float64\n",
      "                        ...   \n",
      "202208                 float64\n",
      "202209                 float64\n",
      "202210                 float64\n",
      "202211                 float64\n",
      "202212                 float64\n",
      "Length: 158, dtype: object\n",
      "Number of unique values:\n",
      " cnes                    3706\n",
      "codigo_procedimento      921\n",
      "201001                 42564\n",
      "201002                 42164\n",
      "201003                 41153\n",
      "                       ...  \n",
      "202208                 44031\n",
      "202209                 43940\n",
      "202210                 44012\n",
      "202211                 43888\n",
      "202212                 43867\n",
      "Length: 158, dtype: int64\n",
      "Number of null values:\n",
      " cnes                   0\n",
      "codigo_procedimento    0\n",
      "201001                 0\n",
      "201002                 0\n",
      "201003                 0\n",
      "                      ..\n",
      "202208                 0\n",
      "202209                 0\n",
      "202210                 0\n",
      "202211                 0\n",
      "202212                 0\n",
      "Length: 158, dtype: int64\n",
      "Shape: (55605, 158)\n",
      "Data types: cnes                     int64\n",
      "codigo_procedimento      int64\n",
      "201001                 float64\n",
      "201002                 float64\n",
      "201003                 float64\n",
      "                        ...   \n",
      "202208                 float64\n",
      "202209                 float64\n",
      "202210                 float64\n",
      "202211                 float64\n",
      "202212                 float64\n",
      "Length: 158, dtype: object\n",
      "Number of unique values:\n",
      " cnes                   3706\n",
      "codigo_procedimento     921\n",
      "201001                 6763\n",
      "201002                 6749\n",
      "201003                 6431\n",
      "                       ... \n",
      "202208                 6185\n",
      "202209                 6051\n",
      "202210                 6119\n",
      "202211                 6276\n",
      "202212                 6529\n",
      "Length: 158, dtype: int64\n",
      "Number of null values:\n",
      " cnes                   0\n",
      "codigo_procedimento    0\n",
      "201001                 0\n",
      "201002                 0\n",
      "201003                 0\n",
      "                      ..\n",
      "202208                 0\n",
      "202209                 0\n",
      "202210                 0\n",
      "202211                 0\n",
      "202212                 0\n",
      "Length: 158, dtype: int64\n"
     ]
    }
   ],
   "source": [
    "def check_dataframe(df):\n",
    "    print(\"Shape:\", df.shape)\n",
    "    print(\"Data types:\", df.dtypes)\n",
    "    print(\"Number of unique values:\\n\", df.nunique())\n",
    "    print(\"Number of null values:\\n\", df.isna().sum())\n",
    "\n",
    "check_dataframe(df_X1)\n",
    "check_dataframe(df_X2)\n",
    "check_dataframe(df_X3)\n"
   ]
  },
  {
   "cell_type": "code",
   "execution_count": 12,
   "metadata": {},
   "outputs": [
    {
     "name": "stdout",
     "output_type": "stream",
     "text": [
      "set()\n",
      "set()\n"
     ]
    }
   ],
   "source": [
    "print(set(df_X1['cnes']) - set(df_X2['cnes']))\n",
    "print(set(df_X1['cnes']) - set(df_X3['cnes']))\n"
   ]
  },
  {
   "cell_type": "code",
   "execution_count": 13,
   "metadata": {},
   "outputs": [
    {
     "name": "stdout",
     "output_type": "stream",
     "text": [
      "Values in column cnes are identical.\n",
      "Values in column codigo_procedimento are identical.\n",
      "Values in column date are not identical.\n"
     ]
    }
   ],
   "source": [
    "def check_merge_columns(df1, df2, df3, cols):\n",
    "    for col in cols:\n",
    "        if not df1[col].equals(df2[col]) or not df1[col].equals(df3[col]):\n",
    "            print(f\"Values in column {col} are not identical.\")\n",
    "        else:\n",
    "            print(f\"Values in column {col} are identical.\")\n",
    "\n",
    "check_merge_columns(df_X1_melt, df_X2_melt, df_X3_melt, ['cnes', 'codigo_procedimento', 'date'])\n"
   ]
  },
  {
   "cell_type": "code",
   "execution_count": 14,
   "metadata": {},
   "outputs": [
    {
     "name": "stdout",
     "output_type": "stream",
     "text": [
      "Columns missing in df_X2: set()\n",
      "Columns missing in df_X3: {201801, 201802, 201803, 201804, 201805, 201806, 201807, 201808, 201809, 201810, 201811, 201812, 201301, 201302, 201303, 201304, 201305, 201306, 201307, 201308, 201309, 201310, 201311, 201312, 201901, 201902, 201903, 201904, 201905, 201906, 201907, 201908, 201909, 201910, 201911, 201912, 201401, 201402, 201403, 201404, 201405, 201406, 201407, 201408, 201409, 201410, 201411, 201412, 202001, 202002, 202003, 202004, 202005, 202006, 202007, 202008, 202009, 202010, 202011, 202012, 201501, 201502, 201503, 201504, 201505, 201506, 201507, 201508, 201509, 201510, 201511, 201512, 201001, 201002, 201003, 201004, 201005, 201006, 201007, 201008, 201009, 201010, 201011, 201012, 202101, 202102, 202103, 202104, 202105, 202106, 202107, 202108, 202109, 202110, 202111, 202112, 201601, 201602, 201603, 201604, 201605, 201606, 201607, 201608, 201609, 201610, 201611, 201612, 201101, 201102, 201103, 201104, 201105, 201106, 201107, 201108, 201109, 201110, 201111, 201112, 202201, 202202, 202203, 202204, 202205, 202206, 202207, 202208, 202209, 202210, 202211, 202212, 201701, 201702, 201703, 201704, 201705, 201706, 201707, 201708, 201709, 201710, 201711, 201712, 201201, 201202, 201203, 201204, 201205, 201206, 201207, 201208, 201209, 201210, 201211, 201212}\n"
     ]
    }
   ],
   "source": [
    "# Get list of date columns (excluding 'cnes' and 'codigo_procedimento')\n",
    "date_cols = df_X1.columns[~df_X1.columns.isin(['cnes', 'codigo_procedimento'])]\n",
    "\n",
    "# Check if any date_cols are missing in df_X2 and df_X3\n",
    "missing_in_X2 = set(date_cols) - set(df_X2.columns)\n",
    "missing_in_X3 = set(date_cols) - set(df_X3.columns)\n",
    "\n",
    "print(f\"Columns missing in df_X2: {missing_in_X2}\")\n",
    "print(f\"Columns missing in df_X3: {missing_in_X3}\")\n"
   ]
  },
  {
   "cell_type": "code",
   "execution_count": 15,
   "metadata": {},
   "outputs": [
    {
     "name": "stdout",
     "output_type": "stream",
     "text": [
      "Date columns in df_X3: Index(['201001', '201002', '201003', '201004', '201005', '201006', '201007',\n",
      "       '201008', '201009', '201010',\n",
      "       ...\n",
      "       '202203', '202204', '202205', '202206', '202207', '202208', '202209',\n",
      "       '202210', '202211', '202212'],\n",
      "      dtype='object', length=156)\n"
     ]
    }
   ],
   "source": [
    "# Get list of date columns in df_X3\n",
    "date_cols_X3 = df_X3.columns[~df_X3.columns.isin(['cnes', 'codigo_procedimento'])]\n",
    "\n",
    "print(f\"Date columns in df_X3: {date_cols_X3}\")\n"
   ]
  }
 ],
 "metadata": {
  "kernelspec": {
   "display_name": ".irisenv",
   "language": "python",
   "name": "python3"
  },
  "language_info": {
   "codemirror_mode": {
    "name": "ipython",
    "version": 3
   },
   "file_extension": ".py",
   "mimetype": "text/x-python",
   "name": "python",
   "nbconvert_exporter": "python",
   "pygments_lexer": "ipython3",
   "version": "3.11.0"
  },
  "orig_nbformat": 4
 },
 "nbformat": 4,
 "nbformat_minor": 2
}
