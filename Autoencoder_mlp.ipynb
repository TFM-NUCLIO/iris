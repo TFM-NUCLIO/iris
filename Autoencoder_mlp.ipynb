{
 "cells": [
  {
   "cell_type": "code",
   "execution_count": 2,
   "metadata": {},
   "outputs": [],
   "source": [
    "import pandas as pd\n",
    "import numpy as np\n",
    "import os"
   ]
  },
  {
   "cell_type": "code",
   "execution_count": 3,
   "metadata": {},
   "outputs": [],
   "source": [
    "# Definindo a opção \"float_format\" para exibir somente 1 dígito após a vírgula\n",
    "pd.set_option(\"float_format\", \"{:.2f}\".format)"
   ]
  },
  {
   "cell_type": "code",
   "execution_count": 4,
   "metadata": {},
   "outputs": [],
   "source": [
    "# carregar os dataframes dos arquivos pkl do notebook tratamento_bd \n",
    "df_proc_cnes = pd.read_pickle('./data/dfpo1/df_proc_cnes.pkl')\n",
    "df_proc_mun = pd.read_pickle('./data/dfpo1/df_proc_mun.pkl')\n",
    "m_desvios_med_n_cnes = pd.read_pickle('./data/dfpo1/m_desvios_med_n_cnes.pkl')\n",
    "m_desvios_med_n_mun = pd.read_pickle('./data/dfpo1/m_desvios_med_n_mun.pkl')\n",
    "df_pop = pd.read_pickle('./data/dfpo1/df_pop.pkl')"
   ]
  }
 ],
 "metadata": {
  "kernelspec": {
   "display_name": ".irisenv",
   "language": "python",
   "name": "python3"
  },
  "language_info": {
   "codemirror_mode": {
    "name": "ipython",
    "version": 3
   },
   "file_extension": ".py",
   "mimetype": "text/x-python",
   "name": "python",
   "nbconvert_exporter": "python",
   "pygments_lexer": "ipython3",
   "version": "3.11.0"
  },
  "orig_nbformat": 4
 },
 "nbformat": 4,
 "nbformat_minor": 2
}
