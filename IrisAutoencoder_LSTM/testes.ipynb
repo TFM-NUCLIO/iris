{
 "cells": [
  {
   "cell_type": "code",
   "execution_count": 1,
   "metadata": {},
   "outputs": [],
   "source": [
    "import pickle\n",
    "import os\n",
    "import pandas as pd\n",
    "import numpy as np"
   ]
  },
  {
   "cell_type": "code",
   "execution_count": 2,
   "metadata": {},
   "outputs": [],
   "source": [
    "df_X1 = pd.read_pickle('./train_data/df_X1.pkl')\n",
    "df_X2 = pd.read_pickle('./train_data/df_X1.pkl')\n",
    "df_X3 = pd.read_pickle('./train_data/df_X1.pkl')\n",
    "\n",
    "# Resetando os índices para transformá-los em colunas\n",
    "df_X1.reset_index(inplace=True)\n",
    "df_X2.reset_index(inplace=True)\n",
    "df_X3.reset_index(inplace=True)\n",
    "\n",
    "# \"Derretendo\" os dataframes e atribuindo nomes de variáveis correspondentes\n",
    "df_X1_melt = df_X1.melt(id_vars=['cnes', 'codigo_procedimento'], var_name='date', value_name='df_X1')\n",
    "df_X2_melt = df_X2.melt(id_vars=['cnes', 'codigo_procedimento'], var_name='date', value_name='df_X2')\n",
    "df_X3_melt = df_X3.melt(id_vars=['cnes', 'codigo_procedimento'], var_name='date', value_name='df_X3')\n",
    "\n",
    "# Fundindo os dataframes derretidos com base em cnes, codigo_procedimento e data\n",
    "df = pd.merge(df_X1_melt, df_X2_melt, on=['cnes', 'codigo_procedimento', 'date'])\n",
    "df = pd.merge(df, df_X3_melt, on=['cnes', 'codigo_procedimento', 'date'])\n",
    "\n",
    "# Ordenando por cnes, codigo_procedimento e date\n",
    "df = df.sort_values(by=['cnes', 'codigo_procedimento', 'date'])\n",
    "\n",
    "# Convertendo para o formato apropriado para LSTM ([samples, timesteps, features])\n",
    "grouped = df.groupby(['cnes', 'codigo_procedimento'])\n",
    "\n",
    "lstm_input = []\n",
    "for _, group in grouped:\n",
    "    group_values = group[['df_X1', 'df_X2', 'df_X3']].values  # Extrai apenas os valores dos dataframes\n",
    "    lstm_input.append(group_values)\n",
    "\n",
    "lstm_input = np.array(lstm_input)  # Converte para um numpy array"
   ]
  }
 ],
 "metadata": {
  "kernelspec": {
   "display_name": ".irisenv",
   "language": "python",
   "name": "python3"
  },
  "language_info": {
   "codemirror_mode": {
    "name": "ipython",
    "version": 3
   },
   "file_extension": ".py",
   "mimetype": "text/x-python",
   "name": "python",
   "nbconvert_exporter": "python",
   "pygments_lexer": "ipython3",
   "version": "3.11.0"
  },
  "orig_nbformat": 4
 },
 "nbformat": 4,
 "nbformat_minor": 2
}
